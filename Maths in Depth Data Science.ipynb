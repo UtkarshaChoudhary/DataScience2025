{
 "cells": [
  {
   "cell_type": "code",
   "execution_count": 3,
   "id": "8a5c5a90-8cd4-48a8-ab93-b4ef7c834f1a",
   "metadata": {},
   "outputs": [],
   "source": [
    "import numpy as np\n",
    "import pandas as pd"
   ]
  },
  {
   "cell_type": "code",
   "execution_count": 5,
   "id": "4aec7413-a671-4298-be42-53e11fc39ea5",
   "metadata": {},
   "outputs": [],
   "source": [
    "ar=np.array([4,9,7,5,6,4,2,5,3,5,6])"
   ]
  },
  {
   "cell_type": "markdown",
   "id": "3fc894c1-2fe2-4256-bf73-c34f2bf20747",
   "metadata": {},
   "source": [
    "### Mean"
   ]
  },
  {
   "cell_type": "code",
   "execution_count": 11,
   "id": "20ca8327-2ec8-4ec7-b307-d632dea03f6d",
   "metadata": {},
   "outputs": [
    {
     "data": {
      "text/plain": [
       "np.float64(5.090909090909091)"
      ]
     },
     "execution_count": 11,
     "metadata": {},
     "output_type": "execute_result"
    }
   ],
   "source": [
    "np.sum(ar)/len(ar)"
   ]
  },
  {
   "cell_type": "code",
   "execution_count": 16,
   "id": "9d7645e6-dc4e-4aec-bcb1-76c75289c550",
   "metadata": {},
   "outputs": [
    {
     "data": {
      "text/plain": [
       "array([2, 3, 4, 4, 5, 5, 5, 6, 6, 7, 9])"
      ]
     },
     "execution_count": 16,
     "metadata": {},
     "output_type": "execute_result"
    }
   ],
   "source": [
    "np.sort(ar) #Ascending Order"
   ]
  },
  {
   "cell_type": "code",
   "execution_count": 18,
   "id": "b534e756-2eff-4712-96b0-6e91ab76735f",
   "metadata": {},
   "outputs": [
    {
     "data": {
      "text/plain": [
       "np.float64(5.090909090909091)"
      ]
     },
     "execution_count": 18,
     "metadata": {},
     "output_type": "execute_result"
    }
   ],
   "source": [
    "np.mean(ar)"
   ]
  },
  {
   "cell_type": "code",
   "execution_count": 20,
   "id": "3f1c996e-09d6-4b8f-b570-81e2661dd984",
   "metadata": {},
   "outputs": [],
   "source": [
    "data=pd.read_csv(\"Salary.csv\")"
   ]
  },
  {
   "cell_type": "code",
   "execution_count": 22,
   "id": "9f15845a-f07b-4dcf-9b0b-08da944b10c5",
   "metadata": {},
   "outputs": [
    {
     "data": {
      "text/html": [
       "<div>\n",
       "<style scoped>\n",
       "    .dataframe tbody tr th:only-of-type {\n",
       "        vertical-align: middle;\n",
       "    }\n",
       "\n",
       "    .dataframe tbody tr th {\n",
       "        vertical-align: top;\n",
       "    }\n",
       "\n",
       "    .dataframe thead th {\n",
       "        text-align: right;\n",
       "    }\n",
       "</style>\n",
       "<table border=\"1\" class=\"dataframe\">\n",
       "  <thead>\n",
       "    <tr style=\"text-align: right;\">\n",
       "      <th></th>\n",
       "      <th>YearsExperience</th>\n",
       "      <th>Age</th>\n",
       "      <th>Salary</th>\n",
       "    </tr>\n",
       "  </thead>\n",
       "  <tbody>\n",
       "    <tr>\n",
       "      <th>0</th>\n",
       "      <td>1.1</td>\n",
       "      <td>21.0</td>\n",
       "      <td>39343</td>\n",
       "    </tr>\n",
       "    <tr>\n",
       "      <th>1</th>\n",
       "      <td>1.3</td>\n",
       "      <td>21.5</td>\n",
       "      <td>46205</td>\n",
       "    </tr>\n",
       "    <tr>\n",
       "      <th>2</th>\n",
       "      <td>1.5</td>\n",
       "      <td>21.7</td>\n",
       "      <td>37731</td>\n",
       "    </tr>\n",
       "    <tr>\n",
       "      <th>3</th>\n",
       "      <td>2.0</td>\n",
       "      <td>22.0</td>\n",
       "      <td>43525</td>\n",
       "    </tr>\n",
       "    <tr>\n",
       "      <th>4</th>\n",
       "      <td>2.2</td>\n",
       "      <td>22.2</td>\n",
       "      <td>39891</td>\n",
       "    </tr>\n",
       "  </tbody>\n",
       "</table>\n",
       "</div>"
      ],
      "text/plain": [
       "   YearsExperience   Age  Salary\n",
       "0              1.1  21.0   39343\n",
       "1              1.3  21.5   46205\n",
       "2              1.5  21.7   37731\n",
       "3              2.0  22.0   43525\n",
       "4              2.2  22.2   39891"
      ]
     },
     "execution_count": 22,
     "metadata": {},
     "output_type": "execute_result"
    }
   ],
   "source": [
    "data.head(5)"
   ]
  },
  {
   "cell_type": "code",
   "execution_count": 40,
   "id": "6e431455-a290-40be-afa2-0cefd3752f7c",
   "metadata": {},
   "outputs": [],
   "source": [
    "mean=data[\"Age\"].mean()"
   ]
  },
  {
   "cell_type": "code",
   "execution_count": 58,
   "id": "3886564d-c336-4b0d-9f9b-1bc3cffdc065",
   "metadata": {},
   "outputs": [
    {
     "data": {
      "image/png": "[encoded data removed]",
      "text/plain": [
       "<Figure size 640x480 with 1 Axes>"
      ]
     },
     "metadata": {},
     "output_type": "display_data"
    }
   ],
   "source": [
    "import seaborn as sns\n",
    "import matplotlib.pyplot as plt\n",
    "sns.histplot(x=\"Age\", data=data,bins=[i for i in range(19,41,10)])\n",
    "plt.plot([mean for i in range(0,30)],[mean for i in range(0,30)],c=\"red\")\n",
    "plt.show()"
   ]
  },
  {
   "cell_type": "markdown",
   "id": "f15c8ec0-8d71-479f-ad34-df779f97bf8e",
   "metadata": {},
   "source": [
    "### Meadian"
   ]
  },
  {
   "cell_type": "raw",
   "id": "f3711885-f8e2-4862-9782-d2545dcdcbe9",
   "metadata": {},
   "source": [
    "when the data is even no "
   ]
  },
  {
   "cell_type": "code",
   "execution_count": 54,
   "id": "f477bf5f-aa34-4733-ab12-85e4ed10ddfe",
   "metadata": {},
   "outputs": [],
   "source": [
    "median=data[\"Salary\"].median()"
   ]
  },
  {
   "cell_type": "markdown",
   "id": "3b63f6c3-e28a-4b54-b944-9930930cbcef",
   "metadata": {},
   "source": [
    "### Mode"
   ]
  },
  {
   "cell_type": "code",
   "execution_count": 67,
   "id": "0a21462f-4872-4ccf-9ef9-47d56fa45e33",
   "metadata": {},
   "outputs": [
    {
     "data": {
      "text/plain": [
       "0    24.0\n",
       "Name: Age, dtype: float64"
      ]
     },
     "execution_count": 67,
     "metadata": {},
     "output_type": "execute_result"
    }
   ],
   "source": [
    "data[\"Age\"].mode()"
   ]
  },
  {
   "cell_type": "code",
   "execution_count": 63,
   "id": "9bc3e759-6370-479d-84e0-e6e7b7b84a7b",
   "metadata": {},
   "outputs": [
    {
     "data": {
      "text/plain": [
       "pandas.core.series.Series"
      ]
     },
     "execution_count": 63,
     "metadata": {},
     "output_type": "execute_result"
    }
   ],
   "source": [
    "type(data[\"Age\"].mode())"
   ]
  },
  {
   "cell_type": "code",
   "execution_count": 71,
   "id": "09897268-4e35-4aa9-8bdd-9cd27e2956b0",
   "metadata": {},
   "outputs": [
    {
     "data": {
      "text/plain": [
       "Age\n",
       "24.0    3\n",
       "23.3    2\n",
       "25.0    2\n",
       "23.0    2\n",
       "30.0    2\n",
       "22.0    1\n",
       "21.0    1\n",
       "21.5    1\n",
       "23.6    1\n",
       "22.2    1\n",
       "21.7    1\n",
       "23.9    1\n",
       "26.0    1\n",
       "27.0    1\n",
       "28.0    1\n",
       "29.0    1\n",
       "31.0    1\n",
       "32.0    1\n",
       "33.0    1\n",
       "34.0    1\n",
       "35.0    1\n",
       "36.0    1\n",
       "37.0    1\n",
       "38.0    1\n",
       "Name: count, dtype: int64"
      ]
     },
     "execution_count": 71,
     "metadata": {},
     "output_type": "execute_result"
    }
   ],
   "source": [
    "#how to check frequency maximum no og ages\n",
    "data[\"Age\"].value_counts()"
   ]
  },
  {
   "cell_type": "markdown",
   "id": "81d42c34-e8d4-4a18-bd6f-f91fe9599e86",
   "metadata": {},
   "source": [
    "# Measure of valiability"
   ]
  },
  {
   "cell_type": "code",
   "execution_count": 109,
   "id": "9245b4f7-c9e2-4546-a59f-d7ca871d39ab",
   "metadata": {},
   "outputs": [],
   "source": [
    "#range\n",
    "#mean absolute vision\n",
    "#variance \n",
    "#standard deviation"
   ]
  },
  {
   "cell_type": "code",
   "execution_count": 97,
   "id": "93045f92-5e02-4792-981d-d7015409a898",
   "metadata": {},
   "outputs": [],
   "source": [
    "# Minimum age \n",
    "min_r=data[\"Age\"].min()\n",
    "# Maximum age \n",
    "max_r=data[\"Age\"].max()"
   ]
  },
  {
   "cell_type": "code",
   "execution_count": 99,
   "id": "db1f2cb0-234c-4345-901a-acd5c05102a9",
   "metadata": {},
   "outputs": [
    {
     "data": {
      "text/plain": [
       "(np.float64(21.0), np.float64(38.0))"
      ]
     },
     "execution_count": 99,
     "metadata": {},
     "output_type": "execute_result"
    }
   ],
   "source": [
    "#Range= maximum - minmum\n",
    "min_r, max_r"
   ]
  },
  {
   "cell_type": "code",
   "execution_count": 107,
   "id": "6b46388c-8dec-42f4-ade5-706990592b02",
   "metadata": {},
   "outputs": [
    {
     "data": {
      "text/plain": [
       "np.float64(17.0)"
      ]
     },
     "execution_count": 107,
     "metadata": {},
     "output_type": "execute_result"
    }
   ],
   "source": [
    "Range= max_r - min_r\n",
    "Range"
   ]
  },
  {
   "cell_type": "code",
   "execution_count": 116,
   "id": "5a2a712c-ebc6-4d26-8dc5-4097bec65754",
   "metadata": {},
   "outputs": [
    {
     "data": {
      "text/html": [
       "<div>\n",
       "<style scoped>\n",
       "    .dataframe tbody tr th:only-of-type {\n",
       "        vertical-align: middle;\n",
       "    }\n",
       "\n",
       "    .dataframe tbody tr th {\n",
       "        vertical-align: top;\n",
       "    }\n",
       "\n",
       "    .dataframe thead th {\n",
       "        text-align: right;\n",
       "    }\n",
       "</style>\n",
       "<table border=\"1\" class=\"dataframe\">\n",
       "  <thead>\n",
       "    <tr style=\"text-align: right;\">\n",
       "      <th></th>\n",
       "      <th>total_bill</th>\n",
       "      <th>tip</th>\n",
       "      <th>sex</th>\n",
       "      <th>smoker</th>\n",
       "      <th>day</th>\n",
       "      <th>time</th>\n",
       "      <th>size</th>\n",
       "    </tr>\n",
       "  </thead>\n",
       "  <tbody>\n",
       "    <tr>\n",
       "      <th>0</th>\n",
       "      <td>16.99</td>\n",
       "      <td>1.01</td>\n",
       "      <td>Female</td>\n",
       "      <td>No</td>\n",
       "      <td>Sun</td>\n",
       "      <td>Dinner</td>\n",
       "      <td>2</td>\n",
       "    </tr>\n",
       "    <tr>\n",
       "      <th>1</th>\n",
       "      <td>10.34</td>\n",
       "      <td>1.66</td>\n",
       "      <td>Male</td>\n",
       "      <td>No</td>\n",
       "      <td>Sun</td>\n",
       "      <td>Dinner</td>\n",
       "      <td>3</td>\n",
       "    </tr>\n",
       "    <tr>\n",
       "      <th>2</th>\n",
       "      <td>21.01</td>\n",
       "      <td>3.50</td>\n",
       "      <td>Male</td>\n",
       "      <td>No</td>\n",
       "      <td>Sun</td>\n",
       "      <td>Dinner</td>\n",
       "      <td>3</td>\n",
       "    </tr>\n",
       "  </tbody>\n",
       "</table>\n",
       "</div>"
      ],
      "text/plain": [
       "   total_bill   tip     sex smoker  day    time  size\n",
       "0       16.99  1.01  Female     No  Sun  Dinner     2\n",
       "1       10.34  1.66    Male     No  Sun  Dinner     3\n",
       "2       21.01  3.50    Male     No  Sun  Dinner     3"
      ]
     },
     "execution_count": 116,
     "metadata": {},
     "output_type": "execute_result"
    }
   ],
   "source": [
    "tip=pd.read_csv(\"tips.csv\")\n",
    "tip.head(3)"
   ]
  },
  {
   "cell_type": "code",
   "execution_count": 122,
   "id": "852bddfb-8944-45d8-b181-8797540996f7",
   "metadata": {},
   "outputs": [],
   "source": [
    "min_range=tip[\"total_bill\"].min()\n",
    "max_range=tip[\"total_bill\"].max()"
   ]
  },
  {
   "cell_type": "code",
   "execution_count": 124,
   "id": "349de520-1980-4434-a17a-5b729accb39d",
   "metadata": {},
   "outputs": [
    {
     "data": {
      "text/plain": [
       "(np.float64(3.07), np.float64(50.81))"
      ]
     },
     "execution_count": 124,
     "metadata": {},
     "output_type": "execute_result"
    }
   ],
   "source": [
    "min_range,max_range"
   ]
  },
  {
   "cell_type": "code",
   "execution_count": 130,
   "id": "f63752d1-b9a9-46d7-8400-8d1c82187684",
   "metadata": {},
   "outputs": [
    {
     "name": "stdout",
     "output_type": "stream",
     "text": [
      "47.74\n"
     ]
    }
   ],
   "source": [
    "range_tip=max_range - min_range\n",
    "print(range_tip)"
   ]
  },
  {
   "cell_type": "markdown",
   "id": "a0f7312c-4d36-4c55-92b4-c4625af08c76",
   "metadata": {},
   "source": [
    "## Mean Absolute Deviation"
   ]
  },
  {
   "cell_type": "code",
   "execution_count": 135,
   "id": "61e4f56a-16ac-4876-8e91-d7fa18b8a399",
   "metadata": {},
   "outputs": [],
   "source": [
    "d1=np.array([75,65,73,68,72,76])\n",
    "d2=np.array([90,47,43,96,93,51])\n",
    "no=np.array([1,2,3,4,5,6])"
   ]
  },
  {
   "cell_type": "code",
   "execution_count": 163,
   "id": "e661ed73-f99f-44c6-886d-ef4bb0ba4ada",
   "metadata": {},
   "outputs": [],
   "source": [
    "mean_tip=np.mean(d1)"
   ]
  },
  {
   "cell_type": "code",
   "execution_count": 165,
   "id": "8f475c1d-ceb4-4594-93b6-e8dd42c2e319",
   "metadata": {},
   "outputs": [
    {
     "data": {
      "image/png": "[encoded data removed]",
      "text/plain": [
       "<Figure size 500x300 with 1 Axes>"
      ]
     },
     "metadata": {},
     "output_type": "display_data"
    }
   ],
   "source": [
    "plt.figure(figsize=(5,3))\n",
    "plt.scatter(d1,no, label=\"data1\")\n",
    "plt.scatter(d2,no,color=\"red\",label=\"data2\")\n",
    "plt.plot([70,70,70,70,70,70],no,c=\"blue\",label=\"Mean\")\n",
    "plt.legend()\n",
    "plt.show()"
   ]
  },
  {
   "cell_type": "code",
   "execution_count": 159,
   "id": "9f1e08c2-a457-4727-a2d8-78feba400226",
   "metadata": {},
   "outputs": [
    {
     "data": {
      "text/plain": [
       "np.int64(2)"
      ]
     },
     "execution_count": 159,
     "metadata": {},
     "output_type": "execute_result"
    }
   ],
   "source": [
    "np.abs(-2)"
   ]
  },
  {
   "cell_type": "code",
   "execution_count": 187,
   "id": "44862428-4ad5-409a-938a-d940d1c3107f",
   "metadata": {},
   "outputs": [],
   "source": [
    "mad_a=np.sum(np.abs(d1-mean_tip))/len(d1)\n",
    "mad_b=np.sum(np.abs(d2-mean_tip))/len(d2)"
   ]
  },
  {
   "cell_type": "code",
   "execution_count": 191,
   "id": "8859c947-fe22-48a9-9b3b-7069cf35fb89",
   "metadata": {},
   "outputs": [
    {
     "data": {
      "text/plain": [
       "(np.float64(3.3333333333333335), np.float64(23.0))"
      ]
     },
     "execution_count": 191,
     "metadata": {},
     "output_type": "execute_result"
    }
   ],
   "source": [
    "mad_a, mad_b       #we are considering a d2 data because the MAD value is low "
   ]
  },
  {
   "cell_type": "markdown",
   "id": "e95ef294-38c0-4b29-ba8a-ed8d790d2242",
   "metadata": {},
   "source": [
    "### Standard Deviation"
   ]
  },
  {
   "cell_type": "code",
   "execution_count": 198,
   "id": "f3d4058e-7a1d-453d-b7aa-e8c56e226a29",
   "metadata": {},
   "outputs": [],
   "source": [
    "#where the standard deviation is low we are choosing that data "
   ]
  },
  {
   "cell_type": "code",
   "execution_count": 206,
   "id": "43d66071-843d-4e19-84d3-ce5f0f63d1b2",
   "metadata": {},
   "outputs": [
    {
     "data": {
      "text/plain": [
       "(np.float64(3.8622100754188224), np.float64(23.18045153428495))"
      ]
     },
     "execution_count": 206,
     "metadata": {},
     "output_type": "execute_result"
    }
   ],
   "source": [
    "np.std(d1), np.std(d2) #we are choosing that data which value is Low "
   ]
  },
  {
   "cell_type": "code",
   "execution_count": 212,
   "id": "197e0b3e-4e47-4b83-9f00-4e693106f107",
   "metadata": {},
   "outputs": [
    {
     "data": {
      "text/plain": [
       "(np.float64(14.916666666666666), np.float64(537.3333333333334))"
      ]
     },
     "execution_count": 212,
     "metadata": {},
     "output_type": "execute_result"
    }
   ],
   "source": [
    "#variance                we are choosing that data which variance is low\n",
    "np.var(d1), np.var(d2)"
   ]
  },
  {
   "cell_type": "code",
   "execution_count": 216,
   "id": "0cafd273-f714-4bbe-90e3-f56c2d62d506",
   "metadata": {},
   "outputs": [
    {
     "data": {
      "text/plain": [
       "14.916666666666666"
      ]
     },
     "execution_count": 216,
     "metadata": {},
     "output_type": "execute_result"
    }
   ],
   "source": [
    "3.8622100754188224**2 #Squaring"
   ]
  },
  {
   "cell_type": "code",
   "execution_count": null,
   "id": "784a7f52-23cb-474e-b4b0-b8f1ecdf3f86",
   "metadata": {},
   "outputs": [],
   "source": []
  }
 ],
 "metadata": {
  "kernelspec": {
   "display_name": "Python 3 (ipykernel)",
   "language": "python",
   "name": "python3"
  },
  "language_info": {
   "codemirror_mode": {
    "name": "ipython",
    "version": 3
   },
   "file_extension": ".py",
   "mimetype": "text/x-python",
   "name": "python",
   "nbconvert_exporter": "python",
   "pygments_lexer": "ipython3",
   "version": "3.12.4"
  }
 },
 "nbformat": 4,
 "nbformat_minor": 5
}
